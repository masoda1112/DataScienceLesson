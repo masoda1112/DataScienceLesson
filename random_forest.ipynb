{
 "cells": [
  {
   "cell_type": "code",
   "execution_count": 44,
   "id": "44fc74bf",
   "metadata": {},
   "outputs": [
    {
     "data": {
      "text/plain": [
       "(891, 15)"
      ]
     },
     "execution_count": 44,
     "metadata": {},
     "output_type": "execute_result"
    }
   ],
   "source": [
    "# ランダムフォレスト\n",
    "import os\n",
    "import pandas as pd\n",
    "import matplotlib.pyplot as plt\n",
    "from IPython.display import display\n",
    "from sklearn.decomposition import PCA\n",
    "df = sns.load_dataset('titanic')\n",
    "df.shape"
   ]
  },
  {
   "cell_type": "code",
   "execution_count": 41,
   "id": "9720cbe3",
   "metadata": {},
   "outputs": [
    {
     "data": {
      "text/plain": [
       "(891, 3)"
      ]
     },
     "execution_count": 41,
     "metadata": {},
     "output_type": "execute_result"
    }
   ],
   "source": [
    "df_x = df[['sex','pclass',\"fare\"]]\n",
    "df_y = df['survived']\n",
    "df_x = pd.get_dummies(df_x, drop_first=True)\n",
    "df_x.shape"
   ]
  },
  {
   "cell_type": "code",
   "execution_count": 42,
   "id": "03023965",
   "metadata": {},
   "outputs": [
    {
     "name": "stdout",
     "output_type": "stream",
     "text": [
      "     pclass     fare  sex_male\n",
      "35        1  52.0000         1\n",
      "46        3  15.5000         1\n",
      "453       1  89.1042         1\n",
      "291       1  91.0792         0\n",
      "748       1  53.1000         1\n",
      "..      ...      ...       ...\n",
      "715       3   7.6500         1\n",
      "767       3   7.7500         0\n",
      "72        2  73.5000         1\n",
      "235       3   7.5500         0\n",
      "37        3   8.0500         1\n",
      "\n",
      "[668 rows x 3 columns]\n"
     ]
    }
   ],
   "source": [
    "from sklearn.model_selection import train_test_split\n",
    "train_x, test_x, train_y, test_y = train_test_split(df_x,df_y,random_state=1)\n",
    "print(train_x)"
   ]
  },
  {
   "cell_type": "code",
   "execution_count": 43,
   "id": "ff19102e",
   "metadata": {},
   "outputs": [
    {
     "name": "stdout",
     "output_type": "stream",
     "text": [
      "score= 0.8565022421524664\n"
     ]
    }
   ],
   "source": [
    "clf = RandomForestClassifier(random_state=1234)\n",
    "clf.fit(train_x, train_y)\n",
    "print(\"score=\", clf.score(test_x, test_y))"
   ]
  },
  {
   "cell_type": "code",
   "execution_count": null,
   "id": "7d298c49",
   "metadata": {},
   "outputs": [],
   "source": []
  }
 ],
 "metadata": {
  "kernelspec": {
   "display_name": "Python 3 (ipykernel)",
   "language": "python",
   "name": "python3"
  },
  "language_info": {
   "codemirror_mode": {
    "name": "ipython",
    "version": 3
   },
   "file_extension": ".py",
   "mimetype": "text/x-python",
   "name": "python",
   "nbconvert_exporter": "python",
   "pygments_lexer": "ipython3",
   "version": "3.9.7"
  }
 },
 "nbformat": 4,
 "nbformat_minor": 5
}
