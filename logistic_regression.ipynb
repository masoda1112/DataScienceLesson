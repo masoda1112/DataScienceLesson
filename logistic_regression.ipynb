{
 "cells": [
  {
   "cell_type": "code",
   "execution_count": 65,
   "id": "49c2c99f",
   "metadata": {},
   "outputs": [
    {
     "data": {
      "text/plain": [
       "(182, 1)"
      ]
     },
     "execution_count": 65,
     "metadata": {},
     "output_type": "execute_result"
    }
   ],
   "source": [
    "# ロジスティック回帰\n",
    "import seaborn as sns\n",
    "import pandas as pd#pandasのインポート\n",
    "import datetime#元データの日付処理のためにインポート\n",
    "from sklearn.model_selection import train_test_split#データ分割用\n",
    "from sklearn.preprocessing import StandardScaler\n",
    "from sklearn.linear_model import LogisticRegression\n",
    "\n",
    "df = sns.load_dataset('titanic')\n",
    "## 欠損値があるレコードカラムを削除\n",
    "df = df.dropna()\n",
    "df_x = df[['sex','pclass',\"fare\"]]\n",
    "df_y = df[['survived']]\n",
    "df_x.shape\n",
    "df_y.shape"
   ]
  },
  {
   "cell_type": "code",
   "execution_count": 63,
   "id": "aa48a5bf",
   "metadata": {},
   "outputs": [
    {
     "name": "stdout",
     "output_type": "stream",
     "text": [
      "        fare  sex_female  sex_male  pclass_1  pclass_2  pclass_3\n",
      "1    71.2833           1         0         1         0         0\n",
      "3    53.1000           1         0         1         0         0\n",
      "6    51.8625           0         1         1         0         0\n",
      "10   16.7000           1         0         0         0         1\n",
      "11   26.5500           1         0         1         0         0\n",
      "..       ...         ...       ...       ...       ...       ...\n",
      "871  52.5542           1         0         1         0         0\n",
      "872   5.0000           0         1         1         0         0\n",
      "879  83.1583           1         0         1         0         0\n",
      "887  30.0000           1         0         1         0         0\n",
      "889  30.0000           0         1         1         0         0\n",
      "\n",
      "[182 rows x 6 columns]\n"
     ]
    }
   ],
   "source": [
    "# カテゴリカル変数（Sex・Pclass・SibSp・Parch・Embarked）を数値（ベクトル化）します。\n",
    "df_dummies = pd.get_dummies(df_x, columns=['sex', 'pclass'])\n",
    "print(df_dummies)"
   ]
  },
  {
   "cell_type": "code",
   "execution_count": 60,
   "id": "f36b9c74",
   "metadata": {},
   "outputs": [],
   "source": [
    "# 連続値の fare を標準化（平均 0・分散 1）し、新しい列（Age_scale・Fare_scale）に保存。\n",
    "scaler = StandardScaler()\n",
    "df_dummies['Fare_scale'] = scaler.fit_transform(df_dummies.loc[:, ['fare']])\n",
    "X_train, X_test, Y_train, Y_test = train_test_split(df_dummies, df_y, test_size = 0.2, random_state = 0) # 80%のデータを学習データに、20%を検証データにする"
   ]
  },
  {
   "cell_type": "code",
   "execution_count": 62,
   "id": "bafbd87b",
   "metadata": {},
   "outputs": [
    {
     "name": "stdout",
     "output_type": "stream",
     "text": [
      "LogisticRegression(random_state=0)\n"
     ]
    },
    {
     "name": "stderr",
     "output_type": "stream",
     "text": [
      "/Users/masahiroodakura/opt/anaconda3/lib/python3.9/site-packages/sklearn/utils/validation.py:63: DataConversionWarning: A column-vector y was passed when a 1d array was expected. Please change the shape of y to (n_samples, ), for example using ravel().\n",
      "  return f(*args, **kwargs)\n",
      "/Users/masahiroodakura/opt/anaconda3/lib/python3.9/site-packages/sklearn/utils/validation.py:63: DataConversionWarning: A column-vector y was passed when a 1d array was expected. Please change the shape of y to (n_samples, ), for example using ravel().\n",
      "  return f(*args, **kwargs)\n"
     ]
    },
    {
     "data": {
      "text/plain": [
       "0.7417582417582418"
      ]
     },
     "execution_count": 62,
     "metadata": {},
     "output_type": "execute_result"
    }
   ],
   "source": [
    "model = LogisticRegression(penalty='none')\n",
    "model.fit(X_train, Y_train)\n",
    "\n",
    "clf =  LogisticRegression(random_state=0).fit(df_dummies, df_y)\n",
    "print(clf)\n",
    "clf.score(df_dummies, df_y)"
   ]
  },
  {
   "cell_type": "code",
   "execution_count": null,
   "id": "663ccefe",
   "metadata": {},
   "outputs": [],
   "source": []
  }
 ],
 "metadata": {
  "kernelspec": {
   "display_name": "Python 3 (ipykernel)",
   "language": "python",
   "name": "python3"
  },
  "language_info": {
   "codemirror_mode": {
    "name": "ipython",
    "version": 3
   },
   "file_extension": ".py",
   "mimetype": "text/x-python",
   "name": "python",
   "nbconvert_exporter": "python",
   "pygments_lexer": "ipython3",
   "version": "3.9.7"
  }
 },
 "nbformat": 4,
 "nbformat_minor": 5
}
