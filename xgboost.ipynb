{
 "cells": [
  {
   "cell_type": "code",
   "execution_count": 1,
   "id": "d8a1adfb",
   "metadata": {},
   "outputs": [],
   "source": [
    "# データのインポート ※欠損値を対処するアルゴリズムが入っているので欠損値の処理は不要\n",
    "import pandas as pd\n",
    "import seaborn as sns\n",
    " \n",
    "df = sns.load_dataset('titanic')\n",
    "# df = df.dropna()\n",
    "X = df.loc[:, (df.columns!='survived') & (df.columns!='alive')]\n",
    "X = pd.get_dummies(X, drop_first=True)\n",
    "y = df['survived']"
   ]
  },
  {
   "cell_type": "code",
   "execution_count": 2,
   "id": "19b1dd0b",
   "metadata": {},
   "outputs": [],
   "source": [
    "# テストデータと訓練データに分ける\n",
    "from sklearn.model_selection import train_test_split\n",
    "X_train, X_test, y_train, y_test = train_test_split(X, y, test_size=0.3)"
   ]
  },
  {
   "cell_type": "code",
   "execution_count": 4,
   "id": "1ca195b9",
   "metadata": {},
   "outputs": [
    {
     "name": "stdout",
     "output_type": "stream",
     "text": [
      "Collecting xgboost\n",
      "  Downloading xgboost-1.7.2-py3-none-macosx_10_15_x86_64.macosx_11_0_x86_64.macosx_12_0_x86_64.whl (1.8 MB)\n",
      "\u001b[K     |████████████████████████████████| 1.8 MB 8.0 MB/s eta 0:00:01\n",
      "\u001b[?25hRequirement already satisfied: numpy in /Users/masahiroodakura/opt/anaconda3/lib/python3.9/site-packages (from xgboost) (1.20.3)\n",
      "Requirement already satisfied: scipy in /Users/masahiroodakura/opt/anaconda3/lib/python3.9/site-packages (from xgboost) (1.7.1)\n",
      "Installing collected packages: xgboost\n",
      "Successfully installed xgboost-1.7.2\n",
      "Note: you may need to restart the kernel to use updated packages.\n"
     ]
    }
   ],
   "source": [
    "pip install xgboost"
   ]
  },
  {
   "cell_type": "code",
   "execution_count": 13,
   "id": "ddea8157",
   "metadata": {},
   "outputs": [],
   "source": [
    "# xgboostモデルのインスタンスを作成、early_stopping_roundsは最低限ブースティングのイテレーションをする回数を指定\n",
    "from xgboost import XGBClassifier\n",
    "model = XGBClassifier(early_stopping_rounds=1000)"
   ]
  },
  {
   "cell_type": "code",
   "execution_count": 14,
   "id": "75e7f4a4",
   "metadata": {},
   "outputs": [
    {
     "name": "stdout",
     "output_type": "stream",
     "text": [
      "[0]\tvalidation_0-logloss:0.56308\n",
      "[1]\tvalidation_0-logloss:0.49282\n",
      "[2]\tvalidation_0-logloss:0.45124\n",
      "[3]\tvalidation_0-logloss:0.42758\n",
      "[4]\tvalidation_0-logloss:0.41048\n",
      "[5]\tvalidation_0-logloss:0.40525\n",
      "[6]\tvalidation_0-logloss:0.40054\n",
      "[7]\tvalidation_0-logloss:0.39620\n",
      "[8]\tvalidation_0-logloss:0.39846\n",
      "[9]\tvalidation_0-logloss:0.39879\n",
      "[10]\tvalidation_0-logloss:0.40054\n",
      "[11]\tvalidation_0-logloss:0.40066\n",
      "[12]\tvalidation_0-logloss:0.40127\n",
      "[13]\tvalidation_0-logloss:0.40179\n",
      "[14]\tvalidation_0-logloss:0.39987\n",
      "[15]\tvalidation_0-logloss:0.40512\n",
      "[16]\tvalidation_0-logloss:0.40603\n",
      "[17]\tvalidation_0-logloss:0.40613\n",
      "[18]\tvalidation_0-logloss:0.40839\n",
      "[19]\tvalidation_0-logloss:0.40882\n",
      "[20]\tvalidation_0-logloss:0.40712\n",
      "[21]\tvalidation_0-logloss:0.40864\n",
      "[22]\tvalidation_0-logloss:0.41076\n",
      "[23]\tvalidation_0-logloss:0.41028\n",
      "[24]\tvalidation_0-logloss:0.41041\n",
      "[25]\tvalidation_0-logloss:0.41108\n",
      "[26]\tvalidation_0-logloss:0.41435\n",
      "[27]\tvalidation_0-logloss:0.41702\n",
      "[28]\tvalidation_0-logloss:0.41910\n",
      "[29]\tvalidation_0-logloss:0.42000\n",
      "[30]\tvalidation_0-logloss:0.42220\n",
      "[31]\tvalidation_0-logloss:0.42292\n",
      "[32]\tvalidation_0-logloss:0.42126\n",
      "[33]\tvalidation_0-logloss:0.42285\n",
      "[34]\tvalidation_0-logloss:0.42640\n",
      "[35]\tvalidation_0-logloss:0.42526\n",
      "[36]\tvalidation_0-logloss:0.42677\n",
      "[37]\tvalidation_0-logloss:0.43100\n",
      "[38]\tvalidation_0-logloss:0.43130\n",
      "[39]\tvalidation_0-logloss:0.43460\n",
      "[40]\tvalidation_0-logloss:0.43667\n",
      "[41]\tvalidation_0-logloss:0.43550\n",
      "[42]\tvalidation_0-logloss:0.43560\n",
      "[43]\tvalidation_0-logloss:0.43880\n",
      "[44]\tvalidation_0-logloss:0.43955\n",
      "[45]\tvalidation_0-logloss:0.44061\n",
      "[46]\tvalidation_0-logloss:0.44074\n",
      "[47]\tvalidation_0-logloss:0.44243\n",
      "[48]\tvalidation_0-logloss:0.44284\n",
      "[49]\tvalidation_0-logloss:0.44260\n",
      "[50]\tvalidation_0-logloss:0.44514\n",
      "[51]\tvalidation_0-logloss:0.44701\n",
      "[52]\tvalidation_0-logloss:0.44878\n",
      "[53]\tvalidation_0-logloss:0.44701\n",
      "[54]\tvalidation_0-logloss:0.44992\n",
      "[55]\tvalidation_0-logloss:0.45110\n",
      "[56]\tvalidation_0-logloss:0.45515\n",
      "[57]\tvalidation_0-logloss:0.45624\n",
      "[58]\tvalidation_0-logloss:0.45980\n",
      "[59]\tvalidation_0-logloss:0.46215\n",
      "[60]\tvalidation_0-logloss:0.46338\n",
      "[61]\tvalidation_0-logloss:0.46873\n",
      "[62]\tvalidation_0-logloss:0.47112\n",
      "[63]\tvalidation_0-logloss:0.47112\n",
      "[64]\tvalidation_0-logloss:0.47186\n",
      "[65]\tvalidation_0-logloss:0.47456\n",
      "[66]\tvalidation_0-logloss:0.47578\n",
      "[67]\tvalidation_0-logloss:0.47871\n",
      "[68]\tvalidation_0-logloss:0.48229\n",
      "[69]\tvalidation_0-logloss:0.48230\n",
      "[70]\tvalidation_0-logloss:0.48137\n",
      "[71]\tvalidation_0-logloss:0.48620\n",
      "[72]\tvalidation_0-logloss:0.48463\n",
      "[73]\tvalidation_0-logloss:0.48667\n",
      "[74]\tvalidation_0-logloss:0.48617\n",
      "[75]\tvalidation_0-logloss:0.48818\n",
      "[76]\tvalidation_0-logloss:0.48952\n",
      "[77]\tvalidation_0-logloss:0.49158\n",
      "[78]\tvalidation_0-logloss:0.49169\n",
      "[79]\tvalidation_0-logloss:0.49252\n",
      "[80]\tvalidation_0-logloss:0.49330\n",
      "[81]\tvalidation_0-logloss:0.49414\n",
      "[82]\tvalidation_0-logloss:0.49766\n",
      "[83]\tvalidation_0-logloss:0.49789\n",
      "[84]\tvalidation_0-logloss:0.49878\n",
      "[85]\tvalidation_0-logloss:0.50157\n",
      "[86]\tvalidation_0-logloss:0.50081\n",
      "[87]\tvalidation_0-logloss:0.50072\n",
      "[88]\tvalidation_0-logloss:0.50302\n",
      "[89]\tvalidation_0-logloss:0.50455\n",
      "[90]\tvalidation_0-logloss:0.50437\n",
      "[91]\tvalidation_0-logloss:0.50736\n",
      "[92]\tvalidation_0-logloss:0.50766\n",
      "[93]\tvalidation_0-logloss:0.51110\n",
      "[94]\tvalidation_0-logloss:0.51149\n",
      "[95]\tvalidation_0-logloss:0.51138\n",
      "[96]\tvalidation_0-logloss:0.51224\n",
      "[97]\tvalidation_0-logloss:0.51346\n",
      "[98]\tvalidation_0-logloss:0.51526\n",
      "[99]\tvalidation_0-logloss:0.51524\n"
     ]
    },
    {
     "data": {
      "text/plain": [
       "XGBClassifier(base_score=0.5, booster='gbtree', callbacks=None,\n",
       "              colsample_bylevel=1, colsample_bynode=1, colsample_bytree=1,\n",
       "              early_stopping_rounds=1000, enable_categorical=False,\n",
       "              eval_metric=None, feature_types=None, gamma=0, gpu_id=-1,\n",
       "              grow_policy='depthwise', importance_type=None,\n",
       "              interaction_constraints='', learning_rate=0.300000012,\n",
       "              max_bin=256, max_cat_threshold=64, max_cat_to_onehot=4,\n",
       "              max_delta_step=0, max_depth=6, max_leaves=0, min_child_weight=1,\n",
       "              missing=nan, monotone_constraints='()', n_estimators=100,\n",
       "              n_jobs=0, num_parallel_tree=1, predictor='auto', random_state=0, ...)"
      ]
     },
     "execution_count": 14,
     "metadata": {},
     "output_type": "execute_result"
    }
   ],
   "source": [
    "# 学習させる\n",
    "eval_set = [(X_test, y_test)]\n",
    "model.fit(X_train, y_train, eval_set=eval_set, verbose=True)"
   ]
  },
  {
   "cell_type": "code",
   "execution_count": 15,
   "id": "b7a1591c",
   "metadata": {},
   "outputs": [
    {
     "data": {
      "text/plain": [
       "0.39620276070686417"
      ]
     },
     "execution_count": 15,
     "metadata": {},
     "output_type": "execute_result"
    }
   ],
   "source": [
    "# 予測LogLoss値を評価（目的変数と確率との差）\n",
    "from sklearn import metrics\n",
    "y_pred = model.predict_proba(X_test)\n",
    "metrics.log_loss(y_test, y_pred)"
   ]
  },
  {
   "cell_type": "code",
   "execution_count": 16,
   "id": "3c66a2fb",
   "metadata": {},
   "outputs": [
    {
     "data": {
      "text/plain": [
       "<BarContainer object of 22 artists>"
      ]
     },
     "execution_count": 16,
     "metadata": {},
     "output_type": "execute_result"
    },
    {
     "data": {
      "image/png": "[encoded data removed]",
      "text/plain": [
       "<Figure size 432x288 with 1 Axes>"
      ]
     },
     "metadata": {
      "needs_background": "light"
     },
     "output_type": "display_data"
    }
   ],
   "source": [
    "# 重要な特徴量可視化\n",
    "import matplotlib.pyplot as plt\n",
    "model.feature_importances_\n",
    "plt.barh(X.columns, model.feature_importances_)"
   ]
  },
  {
   "cell_type": "code",
   "execution_count": null,
   "id": "7829cee0",
   "metadata": {},
   "outputs": [],
   "source": []
  }
 ],
 "metadata": {
  "kernelspec": {
   "display_name": "Python 3 (ipykernel)",
   "language": "python",
   "name": "python3"
  },
  "language_info": {
   "codemirror_mode": {
    "name": "ipython",
    "version": 3
   },
   "file_extension": ".py",
   "mimetype": "text/x-python",
   "name": "python",
   "nbconvert_exporter": "python",
   "pygments_lexer": "ipython3",
   "version": "3.9.7"
  }
 },
 "nbformat": 4,
 "nbformat_minor": 5
}
