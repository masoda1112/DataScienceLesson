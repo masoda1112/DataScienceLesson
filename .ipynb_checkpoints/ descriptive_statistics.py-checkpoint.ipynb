{
 "cells": [
  {
   "cell_type": "code",
   "execution_count": 81,
   "id": "05fc7c14",
   "metadata": {},
   "outputs": [
    {
     "name": "stdout",
     "output_type": "stream",
     "text": [
      "[7 5 3 4 3 5 6 6 2 7] [ 3  2 14  5  6  1 10  2  4  1]\n"
     ]
    }
   ],
   "source": [
    "import numpy as np\n",
    "from scipy.stats import gmean\n",
    "from scipy.stats import hmean\n",
    "from scipy.stats import variation\n",
    "from scipy.stats import spearmanr\n",
    "import matplotlib.pyplot as plt\n",
    "a = np.array([7, 5, 3, 4, 3, 5, 6, 6, 2, 7])\n",
    "b = np.array([3, 2, 14, 5, 6, 1, 10, 2, 4, 1])\n",
    "math    = [6, 4, 5, 10, 2, 8, 3, 9, 1, 7]\n",
    "english = [10, 1, 4, 9, 3, 8, 6, 5, 2, 7]\n",
    "\n",
    "print(a,b)"
   ]
  },
  {
   "cell_type": "code",
   "execution_count": 78,
   "id": "4e3a09fb",
   "metadata": {},
   "outputs": [
    {
     "data": {
      "text/plain": [
       "4.8"
      ]
     },
     "execution_count": 78,
     "metadata": {},
     "output_type": "execute_result"
    }
   ],
   "source": [
    "# 平均\n",
    "np.mean(a)"
   ]
  },
  {
   "cell_type": "code",
   "execution_count": 77,
   "id": "b2289928",
   "metadata": {},
   "outputs": [
    {
     "data": {
      "text/plain": [
       "4.468657902625394"
      ]
     },
     "execution_count": 77,
     "metadata": {},
     "output_type": "execute_result"
    }
   ],
   "source": [
    "# 相乗平均\n",
    "gmean(a)"
   ]
  },
  {
   "cell_type": "code",
   "execution_count": 76,
   "id": "bdbaed36",
   "metadata": {},
   "outputs": [
    {
     "data": {
      "text/plain": [
       "4.105571847507332"
      ]
     },
     "execution_count": 76,
     "metadata": {},
     "output_type": "execute_result"
    }
   ],
   "source": [
    "# 調和平均\n",
    "hmean(a)"
   ]
  },
  {
   "cell_type": "code",
   "execution_count": 75,
   "id": "067361bf",
   "metadata": {},
   "outputs": [
    {
     "data": {
      "text/plain": [
       "5.0"
      ]
     },
     "execution_count": 75,
     "metadata": {},
     "output_type": "execute_result"
    }
   ],
   "source": [
    "# 中央値\n",
    "np.median(a)"
   ]
  },
  {
   "cell_type": "code",
   "execution_count": 74,
   "id": "d94857fc",
   "metadata": {
    "scrolled": true
   },
   "outputs": [
    {
     "data": {
      "text/plain": [
       "2.76"
      ]
     },
     "execution_count": 74,
     "metadata": {},
     "output_type": "execute_result"
    }
   ],
   "source": [
    "# 分散値S^2\n",
    "np.var(a)"
   ]
  },
  {
   "cell_type": "code",
   "execution_count": 73,
   "id": "44d9395f",
   "metadata": {},
   "outputs": [
    {
     "data": {
      "text/plain": [
       "1.6613247725836149"
      ]
     },
     "execution_count": 73,
     "metadata": {},
     "output_type": "execute_result"
    }
   ],
   "source": [
    "# 標準偏差S\n",
    "np.std(a)"
   ]
  },
  {
   "cell_type": "code",
   "execution_count": 72,
   "id": "20bc2971",
   "metadata": {},
   "outputs": [
    {
     "data": {
      "text/plain": [
       "0.34610932762158647"
      ]
     },
     "execution_count": 72,
     "metadata": {},
     "output_type": "execute_result"
    }
   ],
   "source": [
    "# 変動係数\n",
    "variation(a)"
   ]
  },
  {
   "cell_type": "code",
   "execution_count": 71,
   "id": "ed194c00",
   "metadata": {},
   "outputs": [
    {
     "data": {
      "text/plain": [
       "array([[ 1.        , -0.41027527],\n",
       "       [-0.41027527,  1.        ]])"
      ]
     },
     "execution_count": 71,
     "metadata": {},
     "output_type": "execute_result"
    }
   ],
   "source": [
    "# 相関係数\n",
    "np.corrcoef(a,b)"
   ]
  },
  {
   "cell_type": "code",
   "execution_count": 70,
   "id": "5e093557",
   "metadata": {},
   "outputs": [
    {
     "data": {
      "text/plain": [
       "<matplotlib.collections.PathCollection at 0x7fd390f1b610>"
      ]
     },
     "execution_count": 70,
     "metadata": {},
     "output_type": "execute_result"
    },
    {
     "data": {
      "image/png": "[encoded data removed]",
      "text/plain": [
       "<Figure size 432x288 with 1 Axes>"
      ]
     },
     "metadata": {
      "needs_background": "light"
     },
     "output_type": "display_data"
    }
   ],
   "source": [
    "plt.scatter(a,b)"
   ]
  },
  {
   "cell_type": "code",
   "execution_count": 82,
   "id": "10eab266",
   "metadata": {},
   "outputs": [
    {
     "data": {
      "text/plain": [
       "SpearmanrResult(correlation=0.6727272727272726, pvalue=0.0330412225454377)"
      ]
     },
     "execution_count": 82,
     "metadata": {},
     "output_type": "execute_result"
    }
   ],
   "source": [
    "# 順位相関係数\n",
    "spearmanr(math,english)"
   ]
  },
  {
   "cell_type": "code",
   "execution_count": null,
   "id": "e082c4d0",
   "metadata": {},
   "outputs": [],
   "source": []
  }
 ],
 "metadata": {
  "kernelspec": {
   "display_name": "Python 3 (ipykernel)",
   "language": "python",
   "name": "python3"
  },
  "language_info": {
   "codemirror_mode": {
    "name": "ipython",
    "version": 3
   },
   "file_extension": ".py",
   "mimetype": "text/x-python",
   "name": "python",
   "nbconvert_exporter": "python",
   "pygments_lexer": "ipython3",
   "version": "3.9.7"
  }
 },
 "nbformat": 4,
 "nbformat_minor": 5
}
