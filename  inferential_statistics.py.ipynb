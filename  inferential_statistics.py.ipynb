{
 "cells": [
  {
   "cell_type": "code",
   "execution_count": null,
   "id": "df7a6cbd",
   "metadata": {},
   "outputs": [],
   "source": [
    "# 母平均の区間推定\n",
    "# 母平均の区間推定（母集団分布が未知の場合）\n",
    "# 母比率の推定\n",
    "# 母平均の検定\n",
    "# ウェルチの検定"
   ]
  },
  {
   "cell_type": "code",
   "execution_count": 37,
   "id": "117ed13c",
   "metadata": {},
   "outputs": [],
   "source": [
    "# 推測統計学\n",
    "import math\n",
    "import numpy as np\n",
    "import pandas as pd\n",
    "import matplotlib.pyplot as plt\n",
    "import scipy as sp\n",
    "df = pd.DataFrame([168.2, 172.3, 165.4, 170.8, 178.9, 173.5, 169.5, 167.1, 176.4, 174.5])"
   ]
  },
  {
   "cell_type": "code",
   "execution_count": 35,
   "id": "6eba227d",
   "metadata": {},
   "outputs": [
    {
     "name": "stdout",
     "output_type": "stream",
     "text": [
      "[168.09954861]\n",
      "[175.22045139]\n"
     ]
    }
   ],
   "source": [
    "# 母平均の区間推定（母分散が既知）\n",
    "from scipy.stats import norm\n",
    "p_var = 33  # 母分散\n",
    "s_mean = df.mean()  # 標本平均\n",
    "n = len(df)  # 標本数\n",
    " \n",
    "# norm.intervalを使用するには、信頼度、loc（標本平均）、scale（√分散/n）を引数に渡す\n",
    "bottom, up = norm.interval(0.95, loc=s_mean, scale=math.sqrt(p_var/n))\n",
    "print(bottom)\n",
    "print(up)"
   ]
  },
  {
   "cell_type": "code",
   "execution_count": 34,
   "id": "5a20ee4d",
   "metadata": {},
   "outputs": [
    {
     "name": "stdout",
     "output_type": "stream",
     "text": [
      "[168.60535249]\n",
      "[174.71464751]\n"
     ]
    }
   ],
   "source": [
    "# 母平均の区間推定（母分散が未知）\n",
    "from scipy.stats import t #t分布\n",
    "s_mean = df.mean()  # 標本平均\n",
    "n = len(df)  # 標本数\n",
    "u_var = df.var() #不偏分散\n",
    "deg_of_freedom = len(df)-1#自由度\n",
    " \n",
    "# t.intervalを使用するには、自由度、信頼度、loc（標本平均）、scale（√分散/n）を引数に渡す\n",
    "bottom, up = t.interval(0.95, deg_of_freedom, loc=s_mean, scale=math.sqrt(u_var/n))\n",
    "print(bottom)\n",
    "print(up)"
   ]
  },
  {
   "cell_type": "code",
   "execution_count": 33,
   "id": "a31fbef1",
   "metadata": {},
   "outputs": [
    {
     "name": "stdout",
     "output_type": "stream",
     "text": [
      "[169.01341151]\n",
      "[174.30658849]\n"
     ]
    }
   ],
   "source": [
    "# 母平均の区間推定（母集団分布が未知）\n",
    "s_mean = df.mean()  # 標本平均\n",
    "n = len(df)  # 標本数\n",
    "u_var = df.var() #不偏分散\n",
    " \n",
    "# t.intervalを使用するには、自由度、信頼度、loc（標本平均）、scale（√分散/n）を引数に渡す\n",
    "bottom, up = norm.interval(0.95, loc=s_mean, scale=math.sqrt(u_var/n))\n",
    "print(bottom)\n",
    "print(up)"
   ]
  },
  {
   "cell_type": "code",
   "execution_count": 43,
   "id": "caac7e1f",
   "metadata": {},
   "outputs": [
    {
     "name": "stdout",
     "output_type": "stream",
     "text": [
      "母比率pの95%信頼区間: 0.01 < p < 0.06\n"
     ]
    }
   ],
   "source": [
    "# 母比率の区間推定\n",
    "alpha=0.95 # 信頼区間\n",
    "n=200      # 試行回数\n",
    "p=0.035    # 標本比率(成功回数を試行回数で割ったもの)\n",
    "# binom.intervalを使用するには信頼区間、試行回数、標本比率、分布の変更（loc）を引数に渡す\n",
    "bottom, up = sp.stats.binom.interval(alpha=alpha, n=n, p=p, loc=0)\n",
    "print('母比率pの95%信頼区間: {:.2f} < p < {:.2f}'.format(bottom/n, up/n))"
   ]
  },
  {
   "cell_type": "code",
   "execution_count": 117,
   "id": "06575225",
   "metadata": {},
   "outputs": [
    {
     "name": "stdout",
     "output_type": "stream",
     "text": [
      "171.56030130831812\n",
      "174.0396986916819\n",
      "True\n"
     ]
    }
   ],
   "source": [
    "# 母平均の検定\n",
    "mu_0 = 171.4 #帰無仮説の平均\n",
    "n = 9 #標本数\n",
    "bar_X = 172.8 #標本平均\n",
    "U = 4 #不偏分散\n",
    "df = n - 1 #自由度\n",
    "\n",
    "# 標本平均のt分布を使用し信頼区間を算出（信頼度、自由度、標本平均、√不偏分散 / 標本数）\n",
    "bottom, up = stats.t.interval(0.90, df, loc=bar_X, scale=math.sqrt(U / n))\n",
    "print(bottom)\n",
    "print(up)\n",
    "print(not (bottom <= mu_0 <= up))"
   ]
  },
  {
   "cell_type": "code",
   "execution_count": 48,
   "id": "3d774ca5",
   "metadata": {},
   "outputs": [
    {
     "name": "stdout",
     "output_type": "stream",
     "text": [
      "0.0793941401873582\n"
     ]
    }
   ],
   "source": [
    "# ウェルチの検定\n",
    "import scipy\n",
    "import scipy.stats as st\n",
    "\n",
    "group1 = [0.7, -1.6, -0.2, -1.2, -0.1, 3.4, 3.7, 0.8, 0.0, 2.0]\n",
    "group2 = [1.9, 0.8, 1.1, 0.1, -0.1, 4.4, 5.5, 1.6, 4.6, 3.4]\n",
    "\n",
    "# 二つの群の標本、等分散かどうか（false=ウェルチ,true=スチューデント）\n",
    "p_value_welcht = st.ttest_ind(group1, group2, equal_var=False).pvalue\n",
    "print(p_value_welcht)#値が小さいほど、母平均に差がある確率が高い"
   ]
  },
  {
   "cell_type": "code",
   "execution_count": 114,
   "id": "abfa2fa9",
   "metadata": {},
   "outputs": [
    {
     "name": "stdout",
     "output_type": "stream",
     "text": [
      "t: 4.664436868844964\n",
      "nu: 10\n",
      "-3.169272667175838\n",
      "3.169272667175838\n",
      "True\n"
     ]
    }
   ],
   "source": [
    "# ウェルチの検定理解を深める（t値と自由度νのt分布のx%点と比較）\n",
    "\n",
    "A = np.array([13.8, 10.2, 4.6, 10.0, 4.2, 16.1, 14.4, 4.9, 7.7, 11.4])\n",
    "B = np.array([3.3, 2.6, 4.0, 4.7, 1.9, 2.9, 4.7, 5.3, 4.3, 3.0, 2.0])\n",
    "\n",
    "#標本平均\n",
    "X1 = A.mean()\n",
    "X2 = B.mean()\n",
    "\n",
    "#普遍分散\n",
    "s1 = A.var()\n",
    "s2 = B.var()\n",
    "\n",
    "#サンプル数\n",
    "n1 = len(A)\n",
    "n2 = len(B)\n",
    "\n",
    "#t値と自由度νを算出する\n",
    "t_value = (X1-X2)/np.sqrt(s1/n1+s2/n2)\n",
    "nu = int((s1/n1+s2/n2)**2 / (s1**2/(n1**2*(n1-1)) + s2**2/(n2**2*(n2-1))))\n",
    "print('t:',t_value)\n",
    "print('nu:',nu)\n",
    "\n",
    "bottom, up = stats.t.interval(0.99, nu, loc=0)\n",
    "print(bottom)\n",
    "print(up)\n",
    "print(not bottom <= t_value <= up)"
   ]
  },
  {
   "cell_type": "code",
   "execution_count": null,
   "id": "5625d2a1",
   "metadata": {},
   "outputs": [],
   "source": []
  },
  {
   "cell_type": "code",
   "execution_count": null,
   "id": "2e7eafc3",
   "metadata": {},
   "outputs": [],
   "source": []
  }
 ],
 "metadata": {
  "kernelspec": {
   "display_name": "Python 3 (ipykernel)",
   "language": "python",
   "name": "python3"
  },
  "language_info": {
   "codemirror_mode": {
    "name": "ipython",
    "version": 3
   },
   "file_extension": ".py",
   "mimetype": "text/x-python",
   "name": "python",
   "nbconvert_exporter": "python",
   "pygments_lexer": "ipython3",
   "version": "3.9.7"
  }
 },
 "nbformat": 4,
 "nbformat_minor": 5
}
